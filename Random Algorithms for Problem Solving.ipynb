{
 "cells": [
  {
   "cell_type": "markdown",
   "id": "angry-howard",
   "metadata": {},
   "source": [
    "## Array Reversal \n",
    "Rotation method\n"
   ]
  },
  {
   "cell_type": "markdown",
   "id": "iraqi-balance",
   "metadata": {},
   "source": [
    "### Right Rotate"
   ]
  },
  {
   "cell_type": "code",
   "execution_count": 9,
   "id": "stuck-enough",
   "metadata": {},
   "outputs": [
    {
     "name": "stdout",
     "output_type": "stream",
     "text": [
      "[5, 6, 1, 2, 3, 4]\n",
      "[7, 4, 2, 4, 5, 6, 1, 9, 1]\n"
     ]
    }
   ],
   "source": [
    "def rightRotation(arr,start,end):\n",
    "    while(start<end):\n",
    "        arr[start],arr[end] = arr[end],arr[start]\n",
    "        end -= 1\n",
    "        start += 1\n",
    "    \n",
    "    \n",
    "def rrotate(arr,k):\n",
    "    n = len(arr)\n",
    "    rightRotation(arr,n-k,n-1) #Last k elements rotated\n",
    "    rightRotation(arr,0,n-k-1) # First n-k elements rotated\n",
    "    rightRotation(arr,0,n-1) #Array rotated\n",
    "    print(arr)\n",
    "\n",
    "rrotate([1,2,3,4,5,6],2)\n",
    "rrotate([4,5,6,1,9,1,7,4,2],3)"
   ]
  },
  {
   "cell_type": "markdown",
   "id": "figured-software",
   "metadata": {},
   "source": [
    "### Left Rotate"
   ]
  },
  {
   "cell_type": "code",
   "execution_count": 12,
   "id": "pending-choice",
   "metadata": {},
   "outputs": [
    {
     "name": "stdout",
     "output_type": "stream",
     "text": [
      "[3, 4, 5, 6, 1, 2]\n",
      "[1, 9, 1, 7, 4, 2, 4, 5, 6]\n"
     ]
    }
   ],
   "source": [
    "def rightRotation(arr,start,end):\n",
    "    while(start<end):\n",
    "        arr[start],arr[end] = arr[end],arr[start]\n",
    "        end -= 1\n",
    "        start += 1\n",
    "    \n",
    "    \n",
    "def rrotate(arr,k):\n",
    "    n = len(arr)\n",
    "    rightRotation(arr,0,k-1) # First k elements rotated\n",
    "    rightRotation(arr,k,n-1) #Last n-kk elements rotated\n",
    "    rightRotation(arr,0,n-1) #Array rotated\n",
    "    print(arr)\n",
    "\n",
    "rrotate([1,2,3,4,5,6],2)\n",
    "rrotate([4,5,6,1,9,1,7,4,2],3)"
   ]
  },
  {
   "cell_type": "code",
   "execution_count": null,
   "id": "wireless-eating",
   "metadata": {},
   "outputs": [],
   "source": []
  }
 ],
 "metadata": {
  "kernelspec": {
   "display_name": "Python 3",
   "language": "python",
   "name": "python3"
  },
  "language_info": {
   "codemirror_mode": {
    "name": "ipython",
    "version": 3
   },
   "file_extension": ".py",
   "mimetype": "text/x-python",
   "name": "python",
   "nbconvert_exporter": "python",
   "pygments_lexer": "ipython3",
   "version": "3.9.1"
  }
 },
 "nbformat": 4,
 "nbformat_minor": 5
}
